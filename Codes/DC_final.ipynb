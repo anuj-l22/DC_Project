{
 "cells": [
  {
   "cell_type": "code",
   "execution_count": null,
   "id": "025c732c-6a09-4503-aa1d-c641b553dcde",
   "metadata": {},
   "outputs": [],
   "source": [
    "import numpy as np\n",
    "import pandas as pd\n",
    "import matplotlib.pyplot as plt\n",
    "import time\n",
    "\n",
    "def rotate_and_operate_chunked(vec1, vec2, chunk_size=10000, verbose=False):\n",
    "    n = len(vec1)\n",
    "    result_vector = np.empty(n * n, dtype='float32')\n",
    "\n",
    "    for start in range(0, n, chunk_size):\n",
    "        end = min(start + chunk_size, n)\n",
    "        chunk_length = end - start\n",
    "        temp_result = np.empty((chunk_length, n), dtype='float32')\n",
    "\n",
    "        if verbose and start % (5 * chunk_size) == 0:  # Reduces the frequency of verbose output\n",
    "            print(f\"Processing chunk from {start} to {end}...\")\n",
    "\n",
    "        for i in range(chunk_length):\n",
    "            rotated_vec1 = np.roll(vec1, start + i)\n",
    "            temp_result[i, :] = rotated_vec1 - vec2\n",
    "\n",
    "        result_vector[start*n:(start + chunk_length)*n] = temp_result.flatten()\n",
    "\n",
    "        if verbose and start % (5 * chunk_size) == 0:\n",
    "            print(f\"Chunk from {start} to {end} processed.\")\n",
    "\n",
    "    if verbose:\n",
    "        print(\"All chunks processed successfully.\")\n",
    "\n",
    "    return result_vector\n",
    "# Take number of rows from the user\n",
    "num_rows = int(input(\"Please enter the number of rows to process: \"))\n",
    "\n",
    "csv_file = \"DC.csv\"\n",
    "times = []\n",
    "results = []\n",
    "\n",
    "df = pd.read_csv(csv_file, usecols=[0, 1], nrows=num_rows)\n",
    "vec1 = df.iloc[:, 0].values.astype('float32')\n",
    "vec2 = df.iloc[:, 1].values.astype('float32')\n",
    "\n",
    "start_time = time.time()\n",
    "result_vector = rotate_and_operate_chunked(vec1, vec2, verbose=True)\n",
    "end_time = time.time()\n",
    "\n",
    "times.append(end_time - start_time)\n",
    "results.append(result_vector[:10])  # Display only first 10 elements for verification\n",
    "\n",
    "# Sort the result_vector\n",
    "sorted_vector = np.sort(result_vector)\n",
    "\n",
    "# Export to CSV\n",
    "pd.DataFrame(sorted_vector, columns=['Sorted Results']).to_csv('sorted_results.csv', index=False)\n",
    "\n",
    "print(\"Processing complete. CSV file has been written.\")\n"
   ]
  }
 ],
 "metadata": {
  "kernelspec": {
   "display_name": "Python 3 (ipykernel)",
   "language": "python",
   "name": "python3"
  },
  "language_info": {
   "codemirror_mode": {
    "name": "ipython",
    "version": 3
   },
   "file_extension": ".py",
   "mimetype": "text/x-python",
   "name": "python",
   "nbconvert_exporter": "python",
   "pygments_lexer": "ipython3",
   "version": "3.12.2"
  }
 },
 "nbformat": 4,
 "nbformat_minor": 5
}
